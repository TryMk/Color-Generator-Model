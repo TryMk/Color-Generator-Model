{
 "cells": [
  {
   "cell_type": "code",
   "execution_count": null,
   "id": "1213e31d-bb7e-44d1-828e-2a8bc67a04e1",
   "metadata": {},
   "outputs": [],
   "source": [
    "import tensorflow as tf\n",
    "from tensorflow import keras\n",
    "from keras import preprocessing\n",
    "from tensorflow.keras.preprocessing.text import Tokenizer\n",
    "from tensorflow.keras.models import Sequential\n",
    "from tensorflow.keras.layers import Dense, Dropout, LSTM, Reshape\n",
    "\n",
    "import numpy as np\n",
    "import pandas as pd\n",
    "\n",
    "np.random.seed(10)\n",
    "\n",
    "print (tf.__version__)"
   ]
  },
  {
   "cell_type": "code",
   "execution_count": 2,
   "id": "5533d313-417f-4328-b3d8-7330c51b0de0",
   "metadata": {},
   "outputs": [
    {
     "name": "stdout",
     "output_type": "stream",
     "text": [
      "                  name  red  green  blue\n",
      "0             parakeet  174    182    87\n",
      "1         saddle brown   88     52     1\n",
      "2       cucumber crush  222    237   215\n",
      "3            pool blue  134    194   201\n",
      "4             distance   98    110   130\n",
      "...                ...  ...    ...   ...\n",
      "14152        fire mist  251    216   197\n",
      "14153  spanish leather  143    102    54\n",
      "14154         aquatone  165    180   170\n",
      "14155     bottle green    9     54    36\n",
      "14156   tandoori spice  172    112   107\n",
      "\n",
      "[14157 rows x 4 columns]\n"
     ]
    }
   ],
   "source": [
    "data = pd.read_csv('colors.csv')\n",
    "print(data)"
   ]
  },
  {
   "cell_type": "code",
   "execution_count": 3,
   "id": "6b5a6da1-e206-4b20-809a-f1301522e231",
   "metadata": {},
   "outputs": [
    {
     "name": "stdout",
     "output_type": "stream",
     "text": [
      "             name  red  green  blue\n",
      "0        parakeet  174    182    87\n",
      "1    saddle brown   88     52     1\n",
      "2  cucumber crush  222    237   215\n",
      "3       pool blue  134    194   201\n",
      "4        distance   98    110   130\n"
     ]
    }
   ],
   "source": [
    "print(data.head(5))"
   ]
  },
  {
   "cell_type": "code",
   "execution_count": 4,
   "id": "26beffa2-83a4-4be7-bd1f-983fb48c973d",
   "metadata": {},
   "outputs": [
    {
     "data": {
      "text/plain": [
       "14157"
      ]
     },
     "execution_count": 4,
     "metadata": {},
     "output_type": "execute_result"
    }
   ],
   "source": [
    "len(data)"
   ]
  },
  {
   "cell_type": "code",
   "execution_count": 5,
   "id": "603148e0-0ae9-48ee-8af8-cab91e89a9e0",
   "metadata": {},
   "outputs": [
    {
     "name": "stdout",
     "output_type": "stream",
     "text": [
      "0               parakeet\n",
      "1           saddle brown\n",
      "2         cucumber crush\n",
      "3              pool blue\n",
      "4               distance\n",
      "              ...       \n",
      "14152          fire mist\n",
      "14153    spanish leather\n",
      "14154           aquatone\n",
      "14155       bottle green\n",
      "14156     tandoori spice\n",
      "Name: name, Length: 14157, dtype: object\n"
     ]
    }
   ],
   "source": [
    "names = data[\"name\"]\n",
    "print(names)"
   ]
  },
  {
   "cell_type": "code",
   "execution_count": 6,
   "id": "ddb6cd0b-e9cf-4f76-bfea-32f95691c59a",
   "metadata": {},
   "outputs": [
    {
     "ename": "KeyboardInterrupt",
     "evalue": "",
     "output_type": "error",
     "traceback": [
      "\u001b[1;31m---------------------------------------------------------------------------\u001b[0m",
      "\u001b[1;31mKeyboardInterrupt\u001b[0m                         Traceback (most recent call last)",
      "\u001b[1;31mKeyboardInterrupt\u001b[0m: "
     ]
    }
   ],
   "source": [
    "h = sorted(names.str.len().values)\n",
    "\n",
    "import matplotlib.pyplot as plt\n",
    "import scipy.stats as stats\n",
    "\n",
    "fit = stats.norm.pdf(h, np.mean(h), np.std(h))\n",
    "plt.plot(h,fit,'-o')\n",
    "plt.hist(h, density=True)\n",
    "plt.xlabel('Chars')\n",
    "plt.ylabel('Probability density')\n",
    "plt.show()"
   ]
  },
  {
   "cell_type": "code",
   "execution_count": null,
   "id": "f39a4c88-21e7-431b-b7ef-fc296b048039",
   "metadata": {},
   "outputs": [],
   "source": [
    "np.array(h).max()"
   ]
  },
  {
   "cell_type": "code",
   "execution_count": null,
   "id": "38bc0210-3dda-4e52-8838-9b1404245993",
   "metadata": {},
   "outputs": [],
   "source": [
    "maxlen = 25\n",
    "t = Tokenizer(char_level = True)\n",
    "t.fit_on_texts(names)\n",
    "tokenized = t.texts_to_sequences(names)\n",
    "padded_names = preprocessing.sequence.pad_sequences(tokenized,maxlen = maxlen)"
   ]
  },
  {
   "cell_type": "code",
   "execution_count": null,
   "id": "7002fc60-0294-4885-b4c7-f323da7940f0",
   "metadata": {},
   "outputs": [],
   "source": [
    "from keras.utils import to_categorical\n",
    "one_hot_names = to_categorical(padded_names)\n",
    "num_classes = one_hot_names.shape[-1]\n",
    "num_classes"
   ]
  },
  {
   "cell_type": "code",
   "execution_count": null,
   "id": "7ba0ab52-d219-45b4-bb9f-f92e876435d0",
   "metadata": {},
   "outputs": [],
   "source": [
    "print(one_hot_names)\n",
    "print(one_hot_names.shape)\n",
    "t.word_index"
   ]
  },
  {
   "cell_type": "code",
   "execution_count": null,
   "id": "fbd994b6-b569-4d33-8965-64a8b478233d",
   "metadata": {},
   "outputs": [],
   "source": [
    "padded_names"
   ]
  },
  {
   "cell_type": "code",
   "execution_count": null,
   "id": "adf633d8-911a-422f-9c12-31ec40a1f165",
   "metadata": {},
   "outputs": [],
   "source": [
    "# converting rgb values from 0-255 to 0-1\n",
    "def norm(value):\n",
    "    return value/255\n",
    "normalized_values = np.column_stack([norm(data[\"red\"]),norm(data[\"green\"]),norm(data[\"blue\"])])\n",
    "print(normalized_values)"
   ]
  },
  {
   "cell_type": "code",
   "execution_count": null,
   "id": "2c43945a-fa57-4560-8879-a3229bef36eb",
   "metadata": {},
   "outputs": [],
   "source": [
    "model = Sequential()\n",
    "model.add(LSTM(256, return_sequences=True, input_shape=(maxlen, num_classes)))\n",
    "model.add(LSTM(128))\n",
    "model.add(Dense(128, activation='relu'))\n",
    "model.add(Dense(3, activation='sigmoid'))\n",
    "model.compile(optimizer='adam', loss='mse', metrics=['acc'])\n",
    "model.summary()"
   ]
  },
  {
   "cell_type": "code",
   "execution_count": null,
   "id": "465d13d3-57bd-4777-8ba8-e0bbd28c4aeb",
   "metadata": {},
   "outputs": [],
   "source": [
    "normalized_values.shape"
   ]
  },
  {
   "cell_type": "code",
   "execution_count": null,
   "id": "06e19ce3-5417-4c68-b54d-28fb0ffee13b",
   "metadata": {},
   "outputs": [],
   "source": [
    "one_hot_names.shape"
   ]
  },
  {
   "cell_type": "code",
   "execution_count": null,
   "id": "78f78e3e-1cab-4bd7-a602-e2c83bd008a6",
   "metadata": {},
   "outputs": [],
   "source": [
    "history = model.fit(one_hot_names, normalized_values,\n",
    "                    epochs=40, \n",
    "                    batch_size=32,\n",
    "                    validation_split=0.1)"
   ]
  },
  {
   "cell_type": "code",
   "execution_count": null,
   "id": "4dbb8ba3-3e63-4b0c-8c75-aac287c378f4",
   "metadata": {},
   "outputs": [],
   "source": [
    "# train with all data including the 10% that was not included before\n",
    "model.fit(one_hot_names, normalized_values,\n",
    "          epochs=10,\n",
    "          batch_size=32)"
   ]
  },
  {
   "cell_type": "code",
   "execution_count": null,
   "id": "2c8c8c04-42ad-40ce-a212-4e49f7a6470e",
   "metadata": {},
   "outputs": [],
   "source": [
    "model.save_weights('model_1.weights.h5')"
   ]
  },
  {
   "cell_type": "code",
   "execution_count": 10,
   "id": "c8c553d0-82ad-4e8f-9e68-a234f02ce5aa",
   "metadata": {},
   "outputs": [
    {
     "ename": "NameError",
     "evalue": "name 'history' is not defined",
     "output_type": "error",
     "traceback": [
      "\u001b[1;31m---------------------------------------------------------------------------\u001b[0m",
      "\u001b[1;31mNameError\u001b[0m                                 Traceback (most recent call last)",
      "Cell \u001b[1;32mIn[10], line 1\u001b[0m\n\u001b[1;32m----> 1\u001b[0m acc \u001b[38;5;241m=\u001b[39m \u001b[43mhistory\u001b[49m\u001b[38;5;241m.\u001b[39mhistory[\u001b[38;5;124m'\u001b[39m\u001b[38;5;124macc\u001b[39m\u001b[38;5;124m'\u001b[39m]\n\u001b[0;32m      2\u001b[0m val_acc \u001b[38;5;241m=\u001b[39m history\u001b[38;5;241m.\u001b[39mhistory[\u001b[38;5;124m'\u001b[39m\u001b[38;5;124mval_acc\u001b[39m\u001b[38;5;124m'\u001b[39m]\n\u001b[0;32m      3\u001b[0m loss \u001b[38;5;241m=\u001b[39m history\u001b[38;5;241m.\u001b[39mhistory[\u001b[38;5;124m'\u001b[39m\u001b[38;5;124mloss\u001b[39m\u001b[38;5;124m'\u001b[39m]\n",
      "\u001b[1;31mNameError\u001b[0m: name 'history' is not defined"
     ]
    }
   ],
   "source": [
    "acc = history.history['acc']\n",
    "val_acc = history.history['val_acc']\n",
    "loss = history.history['loss']\n",
    "val_loss = history.history['val_loss']\n",
    "\n",
    "epochs = range(len(acc))\n",
    "\n",
    "plt.plot(epochs, acc, 'bo', label='Training acc')\n",
    "plt.plot(epochs, val_acc, 'b', label='Validation acc')\n",
    "plt.title('Training and validation acc')\n",
    "plt.legend()\n",
    "\n",
    "plt.figure()\n",
    "\n",
    "plt.plot(epochs, loss, 'bo', label='Training loss')\n",
    "plt.plot(epochs, val_loss, 'b', label='Validation loss')\n",
    "plt.title('Training and validation loss')\n",
    "plt.legend()\n",
    "\n",
    "plt.show()"
   ]
  },
  {
   "cell_type": "code",
   "execution_count": 8,
   "id": "45a4a906-5fff-401a-bc19-698f91208932",
   "metadata": {},
   "outputs": [],
   "source": [
    "# fn. for plot color image\n",
    "def plot_rgb(rgb):\n",
    "    data =[[rgb]]\n",
    "    plt.figure(figsize=(2,2))\n",
    "    plt.imshow(data, interpolation='nearest')\n",
    "    plt.show()\n",
    "\n",
    "# fn. for rescaling again to 0-255\n",
    "def scale(n):\n",
    "    return int(n*255)\n",
    "\n",
    "# final fn. to display the color\n",
    "def predict(name):\n",
    "    name = name.lower()\n",
    "    tokenized = t.texts_to_sequences([name])\n",
    "    padded = preprocessing.sequence.pad_sequences(tokenized, maxlen=maxlen)\n",
    "    from keras.utils import to_categorical\n",
    "    one_hot = to_categorical(padded, num_classes=num_classes)\n",
    "    pred = model.predict(np.array(one_hot))[0]\n",
    "    r, g, b = scale(pred[0]), scale(pred[1]), scale(pred[2])\n",
    "    print(name + ',', 'R,G,B:', r,g,b)\n",
    "    plot_rgb(pred)"
   ]
  },
  {
   "cell_type": "code",
   "execution_count": 9,
   "id": "7bb9ca93-d132-4f05-b59b-7f149cc0e97e",
   "metadata": {},
   "outputs": [
    {
     "ename": "NameError",
     "evalue": "name 't' is not defined",
     "output_type": "error",
     "traceback": [
      "\u001b[1;31m---------------------------------------------------------------------------\u001b[0m",
      "\u001b[1;31mNameError\u001b[0m                                 Traceback (most recent call last)",
      "Cell \u001b[1;32mIn[9], line 1\u001b[0m\n\u001b[1;32m----> 1\u001b[0m \u001b[43mpredict\u001b[49m\u001b[43m(\u001b[49m\u001b[38;5;124;43m\"\u001b[39;49m\u001b[38;5;124;43mlipstick\u001b[39;49m\u001b[38;5;124;43m\"\u001b[39;49m\u001b[43m)\u001b[49m\n\u001b[0;32m      2\u001b[0m predict(\u001b[38;5;124m\"\u001b[39m\u001b[38;5;124mmauve\u001b[39m\u001b[38;5;124m\"\u001b[39m)\n\u001b[0;32m      3\u001b[0m predict(\u001b[38;5;124m\"\u001b[39m\u001b[38;5;124mkeras red\u001b[39m\u001b[38;5;124m\"\u001b[39m)\n",
      "Cell \u001b[1;32mIn[8], line 15\u001b[0m, in \u001b[0;36mpredict\u001b[1;34m(name)\u001b[0m\n\u001b[0;32m     13\u001b[0m \u001b[38;5;28;01mdef\u001b[39;00m \u001b[38;5;21mpredict\u001b[39m(name):\n\u001b[0;32m     14\u001b[0m     name \u001b[38;5;241m=\u001b[39m name\u001b[38;5;241m.\u001b[39mlower()\n\u001b[1;32m---> 15\u001b[0m     tokenized \u001b[38;5;241m=\u001b[39m \u001b[43mt\u001b[49m\u001b[38;5;241m.\u001b[39mtexts_to_sequences([name])\n\u001b[0;32m     16\u001b[0m     padded \u001b[38;5;241m=\u001b[39m preprocessing\u001b[38;5;241m.\u001b[39msequence\u001b[38;5;241m.\u001b[39mpad_sequences(tokenized, maxlen\u001b[38;5;241m=\u001b[39mmaxlen)\n\u001b[0;32m     17\u001b[0m     \u001b[38;5;28;01mfrom\u001b[39;00m \u001b[38;5;21;01mkeras\u001b[39;00m\u001b[38;5;21;01m.\u001b[39;00m\u001b[38;5;21;01mutils\u001b[39;00m \u001b[38;5;28;01mimport\u001b[39;00m to_categorical\n",
      "\u001b[1;31mNameError\u001b[0m: name 't' is not defined"
     ]
    }
   ],
   "source": [
    "predict(\"lipstick\")\n",
    "predict(\"mauve\")\n",
    "predict(\"keras red\")\n",
    "predict(\"bull cream\")"
   ]
  },
  {
   "cell_type": "code",
   "execution_count": null,
   "id": "13d9ccd2-fbbc-49e0-8246-21f0d5a9cc4c",
   "metadata": {},
   "outputs": [],
   "source": []
  }
 ],
 "metadata": {
  "kernelspec": {
   "display_name": "Python 3 (ipykernel)",
   "language": "python",
   "name": "python3"
  },
  "language_info": {
   "codemirror_mode": {
    "name": "ipython",
    "version": 3
   },
   "file_extension": ".py",
   "mimetype": "text/x-python",
   "name": "python",
   "nbconvert_exporter": "python",
   "pygments_lexer": "ipython3",
   "version": "3.12.1"
  }
 },
 "nbformat": 4,
 "nbformat_minor": 5
}
